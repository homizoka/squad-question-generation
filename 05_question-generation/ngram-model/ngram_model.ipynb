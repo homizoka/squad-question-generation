{
 "cells": [
  {
   "cell_type": "code",
   "execution_count": 1,
   "metadata": {},
   "outputs": [],
   "source": [
    "import sys\n",
    "sys.path.append('../../00_common')\n",
    "from ngrams import NGrams"
   ]
  },
  {
   "cell_type": "code",
   "execution_count": 2,
   "metadata": {},
   "outputs": [],
   "source": [
    "import pandas as pd\n",
    "from tqdm import tqdm\n",
    "import ast\n",
    "\n",
    "df = pd.read_csv(\"../../01_data/preprocessedData/dev_questions.csv\")\n",
    "df[\"question_token\"] = [ast.literal_eval(question) for question in df[\"question_token\"]]\n",
    "df[\"correct_answer_sentence_token\"] = [ast.literal_eval(question) for question in df[\"correct_answer_sentence_token\"]]"
   ]
  },
  {
   "cell_type": "code",
   "execution_count": null,
   "metadata": {},
   "outputs": [],
   "source": []
  },
  {
   "cell_type": "code",
   "execution_count": 3,
   "metadata": {},
   "outputs": [
    {
     "name": "stdout",
     "output_type": "stream",
     "text": [
      "<BOS> what was one of committees exist in jawed vertebrates ? <EOS>\n",
      "<BOS> what spurred increased support for ? <EOS>\n",
      "<BOS> what symbol was employed until early in the us economy ? <EOS>\n",
      "<BOS> where do other tourist attraction does victoria rank as to population ? <EOS>\n",
      "<BOS> how much of poland 's modern growth based on ? <EOS>\n",
      "<BOS> what secretes pathogens that enhance the ultimate development of the bankamericard creator resign ? <EOS>\n",
      "<BOS> _ _ <EOS>\n",
      "<BOS> what is the nervous system protected by what type of system is activated before the yuan was the australian house of the german translation of kunskapsskolan ? <EOS>\n",
      "<BOS> what is european law applied ? <EOS>\n",
      "<BOS> what was telenet <EOS>\n"
     ]
    }
   ],
   "source": [
    "n=3\n",
    "for _ in range(10):\n",
    "    print(NGrams(df[\"question_token\"], n=n).generate_text())"
   ]
  },
  {
   "cell_type": "code",
   "execution_count": null,
   "metadata": {},
   "outputs": [],
   "source": []
  },
  {
   "cell_type": "code",
   "execution_count": 7,
   "metadata": {},
   "outputs": [],
   "source": [
    "newNGrams = NGrams(df[\"question_token\"], n=3).combine(NGrams([df[\"correct_answer_sentence_token\"][0][0]], n=3))"
   ]
  },
  {
   "cell_type": "code",
   "execution_count": 8,
   "metadata": {},
   "outputs": [
    {
     "name": "stdout",
     "output_type": "stream",
     "text": [
      "<BOS> what do supporters of islamism believe their views collectively are sometimes present at religious schools ? <EOS>\n",
      "<BOS> the innate response to celeron ? <EOS>\n",
      "<BOS> what percentage of people ? <EOS>\n",
      "<BOS> which committees do not subscribe to bskyb was ? <EOS>\n",
      "<BOS> tribal members living in warsaw are the components of the yuan 's social class system really represented ? <EOS>\n",
      "<BOS> what act set out the main idea of james hutton 's paper address ? <EOS>\n",
      "<BOS> what is income inequality attributed to ? <EOS>\n",
      "<BOS> ac and nc are complexity measures not used to understand magma chamber evolution explain ? <EOS>\n",
      "<BOS> what has been proven ? <EOS>\n",
      "<BOS> how many chinese schools became national type schools ? <EOS>\n"
     ]
    }
   ],
   "source": [
    "for _ in range(10):\n",
    "    print(newNGrams.generate_text())"
   ]
  },
  {
   "cell_type": "code",
   "execution_count": 6,
   "metadata": {},
   "outputs": [
    {
     "data": {
      "text/plain": [
       "[['The',\n",
       "  'Normans',\n",
       "  '(',\n",
       "  'Norman',\n",
       "  ':',\n",
       "  'Nourmands',\n",
       "  ';',\n",
       "  'French',\n",
       "  ':',\n",
       "  'Normands',\n",
       "  ';',\n",
       "  'Latin',\n",
       "  ':',\n",
       "  'Normanni',\n",
       "  ')',\n",
       "  'were',\n",
       "  'the',\n",
       "  'people',\n",
       "  'who',\n",
       "  'in',\n",
       "  'the',\n",
       "  '10th',\n",
       "  'and',\n",
       "  '11th',\n",
       "  'centuries',\n",
       "  'gave',\n",
       "  'their',\n",
       "  'name',\n",
       "  'to',\n",
       "  'Normandy',\n",
       "  ',',\n",
       "  'a',\n",
       "  'region',\n",
       "  'in',\n",
       "  'France',\n",
       "  '.']]"
      ]
     },
     "execution_count": 6,
     "metadata": {},
     "output_type": "execute_result"
    }
   ],
   "source": [
    "[df[\"correct_answer_sentence_token\"][0][0]]"
   ]
  },
  {
   "cell_type": "code",
   "execution_count": null,
   "metadata": {},
   "outputs": [],
   "source": []
  }
 ],
 "metadata": {
  "kernelspec": {
   "display_name": "Python 3",
   "language": "python",
   "name": "python3"
  },
  "language_info": {
   "codemirror_mode": {
    "name": "ipython",
    "version": 3
   },
   "file_extension": ".py",
   "mimetype": "text/x-python",
   "name": "python",
   "nbconvert_exporter": "python",
   "pygments_lexer": "ipython3",
   "version": "3.7.3"
  }
 },
 "nbformat": 4,
 "nbformat_minor": 4
}
