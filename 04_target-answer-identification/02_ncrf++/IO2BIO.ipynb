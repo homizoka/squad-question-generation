{
 "cells": [
  {
   "cell_type": "code",
   "execution_count": 1,
   "metadata": {},
   "outputs": [],
   "source": [
    "def IO2BIO(input_file, output_file):\n",
    "    print(\"Convert IO -> BIO for file:\", input_file)\n",
    "    with open(input_file,'r') as in_file:\n",
    "        fins = in_file.readlines()\n",
    "    fout = open(output_file,'w')\n",
    "    words = []\n",
    "    labels = []\n",
    "    for line in fins:\n",
    "        if len(line) < 3:\n",
    "            assert len(words) == len(labels)\n",
    "            sent_len = len(words)\n",
    "            for idx in range(sent_len):\n",
    "                #All O-labels are kept untouched\n",
    "                if \"-\" not in labels[idx]:\n",
    "                    fout.write(words[idx]+\" \"+labels[idx]+\"\\n\")\n",
    "                #All I-labels are checked here\n",
    "                else:\n",
    "                    label_type = labels[idx].split('-')[-1]\n",
    "                    if (idx == 0):\n",
    "                        fout.write(words[idx]+\" B-\"+label_type+\"\\n\")\n",
    "                    elif (labels[idx-1] != labels[idx]):\n",
    "                        fout.write(words[idx]+\" B-\"+label_type+\"\\n\")\n",
    "                    else:\n",
    "                        fout.write(words[idx]+\" I-\"+label_type+\"\\n\")\n",
    "                    \n",
    "            fout.write('\\n')\n",
    "            words = []\n",
    "            labels = []\n",
    "        else:\n",
    "            pair = line.strip('\\n').split()\n",
    "            words.append(pair[0])\n",
    "            labels.append(pair[-1].upper())\n",
    "    fout.close()\n",
    "    print(\"BIO file generated:\", output_file)"
   ]
  },
  {
   "cell_type": "code",
   "execution_count": 3,
   "metadata": {},
   "outputs": [
    {
     "name": "stdout",
     "output_type": "stream",
     "text": [
      "Convert IO -> BIO for file: ../../01_data/preprocessedData/dev_conll.csv\n",
      "BIO file generated: squad.train.bio\n"
     ]
    }
   ],
   "source": [
    "IO2BIO(\"../../01_data/preprocessedData/dev_conll.csv\", \"squad.train.bio\")"
   ]
  },
  {
   "cell_type": "code",
   "execution_count": null,
   "metadata": {},
   "outputs": [],
   "source": []
  }
 ],
 "metadata": {
  "kernelspec": {
   "display_name": "Python 3",
   "language": "python",
   "name": "python3"
  },
  "language_info": {
   "codemirror_mode": {
    "name": "ipython",
    "version": 3
   },
   "file_extension": ".py",
   "mimetype": "text/x-python",
   "name": "python",
   "nbconvert_exporter": "python",
   "pygments_lexer": "ipython3",
   "version": "3.7.3"
  }
 },
 "nbformat": 4,
 "nbformat_minor": 4
}
